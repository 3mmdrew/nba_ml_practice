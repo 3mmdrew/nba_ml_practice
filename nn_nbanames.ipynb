{
 "cells": [],
 "metadata": {
  "kernelspec": {
   "display_name": "Python 3",
   "language": "python",
   "name": "python3"
  },
  "language_info": {
   "codemirror_mode": {
    "name": "ipython",
    "version": 3
   },
   "file_extension": ".py",
   "mimetype": "text/x-python",
   "name": "python",
   "nbconvert_exporter": "python",
   "pygments_lexer": "ipython3",
   "version": "3.9.4"
  },
  "orig_nbformat": 4,
  "vscode": {
   "interpreter": {
    "hash": "64c8547dd3f5b35e0c1e90f347e298d90b955a7b7b375dec677bec5b0a272829"
   }
  }
 },
 "nbformat": 4,
 "nbformat_minor": 2
}
